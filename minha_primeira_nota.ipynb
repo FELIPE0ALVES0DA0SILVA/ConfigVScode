{
 "nbformat": 4,
 "nbformat_minor": 2,
 "metadata": {
  "language_info": {
   "name": "python",
   "codemirror_mode": {
    "name": "ipython",
    "version": 3
   },
   "version": "3.8.1-final"
  },
  "orig_nbformat": 2,
  "file_extension": ".py",
  "mimetype": "text/x-python",
  "name": "python",
  "npconvert_exporter": "python",
  "pygments_lexer": "ipython3",
  "version": 3,
  "kernelspec": {
   "name": "python38132bitd0b1f403250845e78ad71591a10ce5cd",
   "display_name": "Python 3.8.1 32-bit"
  }
 },
 "cells": [
  {
   "cell_type": "code",
   "execution_count": 2,
   "metadata": {},
   "outputs": [
    {
     "name": "stdout",
     "output_type": "stream",
     "text": "Hi\n"
    }
   ],
   "source": [
    "print('Hi')"
   ]
  },
  {
   "cell_type": "code",
   "execution_count": 3,
   "metadata": {},
   "outputs": [
    {
     "name": "stdout",
     "output_type": "stream",
     "text": "EU CONSEGUI, OBRIGADO MEUU DEUS, JESUS CRISTO, YHAWH, ESPIRITP SANTO, SENHOR DE TODO O UNIVERSO, EU IREI ME DEDICAR TODOS OS DIAS!!!!\n"
    }
   ],
   "source": [
    "print('EU CONSEGUI, OBRIGADO MEUU DEUS, JESUS CRISTO, YHAWH, ESPIRITP SANTO, SENHOR DE TODO O UNIVERSO, EU IREI ME DEDICAR TODOS OS DIAS!!!!')"
   ]
  },
  {
   "cell_type": "code",
   "execution_count": null,
   "metadata": {},
   "outputs": [],
   "source": []
  },
  {
   "cell_type": "code",
   "execution_count": 4,
   "metadata": {},
   "outputs": [
    {
     "name": "stdout",
     "output_type": "stream",
     "text": "Iae, galera!!!\n"
    }
   ],
   "source": [
    "print('Iae, galera!!!')"
   ]
  },
  {
   "cell_type": "code",
   "execution_count": null,
   "metadata": {},
   "outputs": [],
   "source": []
  }
 ]
}